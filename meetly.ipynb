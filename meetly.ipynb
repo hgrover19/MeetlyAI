{
 "cells": [
  {
   "cell_type": "markdown",
   "metadata": {},
   "source": [
    "Imports"
   ]
  },
  {
   "cell_type": "code",
   "execution_count": 43,
   "metadata": {},
   "outputs": [],
   "source": [
    "# For noise surpression\n",
    "from audoai.noise_removal import NoiseRemovalClient\n",
    "\n",
    "# For Speech Recognition, Speaker Diarization and Summary\n",
    "import assemblyai as aai\n",
    "\n",
    "# For PDF generation\n",
    "from reportlab.lib.pagesizes import letter\n",
    "from reportlab.pdfgen import canvas\n",
    "\n",
    "# For Automated Emails\n",
    "import smtplib\n",
    "from email.mime.multipart import MIMEMultipart\n",
    "from email.mime.text import MIMEText\n",
    "from email.mime.application import MIMEApplication\n",
    "from os.path import basename"
   ]
  },
  {
   "cell_type": "markdown",
   "metadata": {},
   "source": [
    "Noise Surpression of Audio File"
   ]
  },
  {
   "cell_type": "code",
   "execution_count": 45,
   "metadata": {},
   "outputs": [
    {
     "name": "stdout",
     "output_type": "stream",
     "text": [
      "{'state': 'uploading'}\n",
      "{'state': 'creating_job'}\n",
      "{'state': 'in_progress', 'percent': 0.0}\n",
      "{'state': 'in_progress', 'percent': 33.33}\n",
      "{'state': 'in_progress', 'percent': 44.44}\n",
      "{'state': 'in_progress', 'percent': 55.55}\n",
      "{'state': 'in_progress', 'percent': 66.66}\n",
      "{'state': 'in_progress', 'percent': 73.31}\n",
      "{'state': 'in_progress', 'percent': 77.97}\n",
      "{'state': 'in_progress', 'percent': 81.74}\n",
      "{'state': 'in_progress', 'percent': 85.64}\n",
      "{'state': 'in_progress', 'percent': 92.32}\n",
      "{'state': 'in_progress', 'percent': 98.7}\n",
      "{'state': 'in_progress', 'percent': 100.0}\n",
      "{'state': 'succeeded', 'downloadPath': '/dl/artifacts/b849ff3c-8f51-4550-8acb-a997e5d3c8a2_transcode-out.mp3'}\n"
     ]
    }
   ],
   "source": [
    "noise_removal = NoiseRemovalClient(api_key='e35667007cd43c36dd94c4866bf495d5')\n",
    "result = noise_removal.process('test_audio.mp3')\n",
    "result.save('meeting-clean.mp3')"
   ]
  },
  {
   "cell_type": "markdown",
   "metadata": {},
   "source": [
    "Speech Recognition and Summarization"
   ]
  },
  {
   "cell_type": "code",
   "execution_count": 46,
   "metadata": {},
   "outputs": [
    {
     "name": "stdout",
     "output_type": "stream",
     "text": [
      "- Smoke from hundreds of wildfires in Canada is triggering air quality alerts throughout the US. Skylines from Maine to Maryland to Minnesota are gray and smoggy. In some places, the air quality warnings include the warning to stay inside.\n",
      "- The levels outside right now in Baltimore are considered unhealthy. Most of that is due to what's called particulate matter. Exposure to those high levels can lead to a host of health problems. Will we be seeing more of these kinds of wide ranging air quality consequences?\n"
     ]
    }
   ],
   "source": [
    "aai.settings.api_key = \"9e2fe3e6c5f845b2820d30ff3e4ffcb9\"\n",
    "num_attendees = input(\"Please enter the number of people attending the meeting: \")\n",
    "\n",
    "config = aai.TranscriptionConfig(\n",
    "  summarization = True,\n",
    "  summary_model=aai.SummarizationModel.informative,\n",
    "  summary_type=aai.SummarizationType.bullets,\n",
    "  speaker_labels = True,\n",
    "  speakers_expected = num_attendees\n",
    ")\n",
    "\n",
    "transcriber = aai.Transcriber()\n",
    "\n",
    "# Speech Recognition & Conversion to Text\n",
    "transcript = transcriber.transcribe(\"test_audio.mp3\",config=config)\n",
    "\n",
    "print(transcript.summary)"
   ]
  },
  {
   "cell_type": "markdown",
   "metadata": {},
   "source": [
    "Generate Meeting Summary and Store in PDF"
   ]
  },
  {
   "cell_type": "code",
   "execution_count": 47,
   "metadata": {},
   "outputs": [],
   "source": [
    "def wrap_text(text, max_width, canvas):\n",
    "    all_lines = []\n",
    "    # Split the text by bullet points\n",
    "    parts = text.split('-')\n",
    "    for part in parts:\n",
    "        if part:  # Check if the part is not empty\n",
    "            words = part.split()\n",
    "            current_line = ''\n",
    "            for word in words:\n",
    "                test_line = f\"{current_line} {word}\".strip()\n",
    "                if canvas.stringWidth(test_line, 'Helvetica', 10) <= max_width:\n",
    "                    current_line = test_line\n",
    "                else:\n",
    "                    all_lines.append(current_line)\n",
    "                    current_line = word\n",
    "            all_lines.append(current_line)  # Add the last line of the part\n",
    "            all_lines.append(\"\")  # Add an empty line to represent the bullet point break\n",
    "    return all_lines\n",
    "\n",
    "c = canvas.Canvas(\"Meeting_Summary.pdf\", pagesize=letter)\n",
    "width, height = letter\n",
    "left_margin = 60\n",
    "top_margin = 60\n",
    "max_width = width - 2 * left_margin\n",
    "line_height = 15\n",
    "\n",
    "# Set bold font for the heading\n",
    "c.setFont(\"Helvetica-Bold\", 14)\n",
    "c.drawString(left_margin, height - top_margin, \"Meeting Summary\")\n",
    "y_position = height - top_margin - 2 * line_height  # Adjust starting position after heading\n",
    "\n",
    "# Set regular font for the body text\n",
    "c.setFont(\"Helvetica\", 10)\n",
    "\n",
    "lines = wrap_text(transcript.summary, max_width, c)\n",
    "for line in lines:\n",
    "    if line == \"\":  # Special handling for bullet point breaks\n",
    "        y_position -= line_height * 0.5  # Adjust spacing for bullet points\n",
    "        continue\n",
    "    if y_position < line_height + top_margin:\n",
    "        c.showPage()\n",
    "        y_position = height - top_margin\n",
    "    c.drawString(left_margin, y_position, line)\n",
    "    y_position -= line_height\n",
    "\n",
    "c.save()"
   ]
  },
  {
   "cell_type": "markdown",
   "metadata": {},
   "source": [
    "Speaker Diarization & PDF Generation"
   ]
  },
  {
   "cell_type": "code",
   "execution_count": 48,
   "metadata": {},
   "outputs": [],
   "source": [
    "def wrap_text(text, max_width, canvas, y_position):\n",
    "    # Split the text into words\n",
    "    words = text.split()\n",
    "    wrapped_text = \"\"\n",
    "    line = \"\"\n",
    "    for word in words:\n",
    "        # Check if adding the next word exceeds the line width\n",
    "        if canvas.stringWidth(line + word, \"Helvetica\", 10) < max_width:\n",
    "            line += word + \" \"\n",
    "        else:\n",
    "            # If the line is too wide, wrap to the next line\n",
    "            wrapped_text += line + \"\\n\"\n",
    "            line = word + \" \"  # Start a new line with the current word\n",
    "    \n",
    "    wrapped_text += line  # Add the last line\n",
    "    return wrapped_text\n",
    "\n",
    "\n",
    "c = canvas.Canvas(\"Meeting_Transcript.pdf\", pagesize=letter)\n",
    "width, height = letter\n",
    "\n",
    "# Define margins\n",
    "left_margin = 30\n",
    "right_margin = width - 30\n",
    "max_width = right_margin - left_margin\n",
    "\n",
    "# Starting Y position, and the step for each new line\n",
    "y_position = height - 50\n",
    "line_height = 15\n",
    "\n",
    "# Title or Header\n",
    "c.setFont(\"Helvetica-Bold\", 12)\n",
    "c.drawString(left_margin, y_position, \"Meeting Transcript\")\n",
    "y_position -= 2 * line_height\n",
    "\n",
    "# Set font for the body text\n",
    "c.setFont(\"Helvetica\", 10)\n",
    "\n",
    "# Iterate through the transcript utterances and add them to the PDF\n",
    "for utterance in transcript.utterances:\n",
    "    text = f\"Speaker {utterance.speaker}: {utterance.text}\"\n",
    "    wrapped_text = wrap_text(text, max_width, c, y_position)\n",
    "    for line in wrapped_text.split('\\n'):\n",
    "        c.drawString(left_margin, y_position, line)\n",
    "        y_position -= line_height\n",
    "        # Move to next page if there's not enough space\n",
    "        if y_position < 50:\n",
    "            c.showPage()\n",
    "            y_position = height - 50\n",
    "            c.setFont(\"Helvetica\", 10)\n",
    "\n",
    "c.save()\n"
   ]
  },
  {
   "cell_type": "markdown",
   "metadata": {},
   "source": [
    "Send Emails"
   ]
  },
  {
   "cell_type": "code",
   "execution_count": 49,
   "metadata": {},
   "outputs": [
    {
     "name": "stdout",
     "output_type": "stream",
     "text": [
      "Email sent successfully!\n"
     ]
    }
   ],
   "source": [
    "def send_email_with_pdfs(recipients, subject, body, pdf_paths, email_user, email_password, smtp_server=\"smtp.gmail.com\", smtp_port=587):\n",
    "    # Create a multipart message\n",
    "    msg = MIMEMultipart()\n",
    "    msg['From'] = email_user\n",
    "    msg['To'] = \", \".join(recipients)  # Join all recipient emails with a comma\n",
    "    msg['Subject'] = subject\n",
    "    \n",
    "    # Add body to email\n",
    "    msg.attach(MIMEText(body, 'plain'))\n",
    "    \n",
    "    # Attach each PDF file\n",
    "    for pdf_path in pdf_paths:\n",
    "        with open(pdf_path, \"rb\") as file:\n",
    "            part = MIMEApplication(\n",
    "                file.read(),\n",
    "                Name=basename(pdf_path)\n",
    "            )\n",
    "        part['Content-Disposition'] = f'attachment; filename=\"{basename(pdf_path)}\"'\n",
    "        msg.attach(part)\n",
    "    \n",
    "    # Log in to server and send the email\n",
    "    try:\n",
    "        server = smtplib.SMTP(smtp_server, smtp_port)\n",
    "        server.starttls()  # Secure the connection\n",
    "        server.login(email_user, email_password)\n",
    "        server.send_message(msg)\n",
    "        server.quit()\n",
    "        print(\"Email sent successfully!\")\n",
    "    except Exception as e:\n",
    "        print(f\"Failed to send email: {e}\")\n",
    "\n",
    "# Usage example\n",
    "email_user = \"meetly.ai.automated@gmail.com\"  # Your email\n",
    "email_password = \"pssd wtcj krjr tuds\"  # Your email password or app password\n",
    "recipients = [\"hgrover1904@gmail.com\"]  # List of recipients\n",
    "subject = \"Meeting Summaries\"\n",
    "body = \"Please find attached the meeting summary PDFs.\"\n",
    "pdf_paths = [\"Meeting_Summary.pdf\", \"Meeting_Transcript.pdf\"]  # List of PDF file paths to attach\n",
    "\n",
    "send_email_with_pdfs(recipients, subject, body, pdf_paths, email_user, email_password)\n"
   ]
  },
  {
   "cell_type": "code",
   "execution_count": null,
   "metadata": {},
   "outputs": [],
   "source": []
  }
 ],
 "metadata": {
  "kernelspec": {
   "display_name": "Python 3",
   "language": "python",
   "name": "python3"
  },
  "language_info": {
   "codemirror_mode": {
    "name": "ipython",
    "version": 3
   },
   "file_extension": ".py",
   "mimetype": "text/x-python",
   "name": "python",
   "nbconvert_exporter": "python",
   "pygments_lexer": "ipython3",
   "version": "3.9.6"
  }
 },
 "nbformat": 4,
 "nbformat_minor": 2
}
